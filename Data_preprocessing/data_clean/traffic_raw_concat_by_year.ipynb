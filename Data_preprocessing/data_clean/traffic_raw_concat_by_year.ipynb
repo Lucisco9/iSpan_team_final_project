{
 "cells": [
  {
   "cell_type": "code",
   "execution_count": null,
   "id": "0a92424c",
   "metadata": {},
   "outputs": [],
   "source": [
    "import warnings\n",
    "warnings.filterwarnings(\"ignore\")\n",
    "import pandas as pd\n",
    "import numpy as np\n",
    "from glob import glob\n",
    "import os"
   ]
  },
  {
   "cell_type": "code",
   "execution_count": null,
   "id": "199613a6",
   "metadata": {},
   "outputs": [],
   "source": [
    "#單檔去除頁尾\n",
    "# test=pd.read_csv(\"../RAW/全國交通事故資料/107/2018年度A1交通事故資料.csv\").dropna(axis=0,subset=['發生日期'])\n",
    "# column_name='發生時間'\n",
    "# test['發生時間']=test['發生時間'].astype(int).apply(lambda x : \"{:0>6}\".format(x))\n",
    "# test.astype(str).head(5)\n",
    "# test.to_csv('test.csv',index=False, float_format= '%.0f',encoding='UTF-8-sig')\n",
    "# test.info()"
   ]
  },
  {
   "cell_type": "code",
   "execution_count": null,
   "id": "d59fba49",
   "metadata": {},
   "outputs": [],
   "source": [
    "import os\n",
    "import pandas as pd\n",
    "\n",
    "# 指定資料夾路徑\n",
    "folder_path = '/Users/lucy/BDSE30MP/data_RAW/全國交通事故資料/ACCIDENT_ALL/'\n",
    "\n",
    "# 建立一個空的 DataFrame 來存儲合併的結果\n",
    "merged_df = pd.DataFrame()\n",
    "\n",
    "# 讀取資料夾內的所有 CSV 檔案\n",
    "for filename in os.listdir(folder_path):\n",
    "    if filename.endswith('.csv'):\n",
    "        file_path = os.path.join(folder_path, filename)\n",
    "        df = pd.read_csv(file_path, encoding='utf-8').dropna(axis=0,subset=['發生日期'])\n",
    "        # 合併到結果 DataFrame\n",
    "        merged_df = pd.concat([merged_df, df])\n",
    "\n",
    "# 印出合併後的結果\n",
    "merged_df=merged_df.drop(['Unnamed: 0'],axis=1)\n",
    "merged_df.to_csv('BIG_ALL.csv')\n"
   ]
  },
  {
   "cell_type": "code",
   "execution_count": null,
   "id": "0287b577",
   "metadata": {},
   "outputs": [],
   "source": [
    "#測試多檔合併\n",
    "# files=glob('/Users/lucy/BDSE30MP/data_RAW/全國交通事故資料/ACCIDENT_ALL/*.csv')\n",
    "# df= pd.concat(\n",
    "#     (pd.read_csv(file, usecols=\n",
    "#                  ['發生年度','發生月份','發生日期','發生時間','事故類別名稱','處理單位名稱警局層',\n",
    "#                   '發生地點','天候名稱','光線名稱','道路類別-第1當事者-名稱','速限-第1當事者',\n",
    "#                   '道路型態大類別名稱','道路型態子類別名稱','事故位置大類別名稱','事故位置子類別名稱',\n",
    "#                   '路面狀況-路面鋪裝名稱','路面狀況-路面狀態名稱','路面狀況-路面缺陷名稱','道路障礙-障礙物名稱',\n",
    "#                   '道路障礙-視距品質名稱','道路障礙-視距名稱','號誌-號誌種類名稱','號誌-號誌動作名稱',\n",
    "#                   '車道劃分設施-分向設施大類別名稱','車道劃分設施-分向設施子類別名稱',\n",
    "#                   '車道劃分設施-分道設施-快車道或一般車道間名稱','車道劃分設施-分道設施-快慢車道間名稱',\n",
    "#                   '車道劃分設施-分道設施-路面邊線名稱','事故類型及型態大類別名稱','事故類型及型態子類別名稱',\n",
    "#                   '肇因研判大類別名稱-主要','肇因研判子類別名稱-主要','死亡受傷人數','當事者順位',\n",
    "#                   '當事者區分-類別-大類別名稱-車種','當事者區分-類別-子類別名稱-車種','當事者屬-性-別名稱',\n",
    "#                   '當事者事故發生時年齡','保護裝備名稱','行動電話或電腦或其他相類功能裝置名稱',\n",
    "#                   '當事者行動狀態大類別名稱', '當事者行動狀態子類別名稱','車輛撞擊部位大類別名稱-最初',\n",
    "#                   '車輛撞擊部位子類別名稱-最初','車輛撞擊部位大類別名稱-其他', '車輛撞擊部位子類別名稱-其他',\n",
    "#                   '肇因研判大類別名稱-個別','肇因研判子類別名稱-個別','肇事逃逸類別名稱-是否肇逃','經度','緯度'],encoding='UTF-8',low_memory=False) \n",
    "#                  for file in files),ignore_index=True)\n"
   ]
  },
  {
   "cell_type": "code",
   "execution_count": null,
   "id": "60b9aa16",
   "metadata": {},
   "outputs": [],
   "source": [
    "dest_folder ='../RAW/107-112_all.csv'\n",
    "df.to_csv(dest_folder,encoding='UTF-8-sig')"
   ]
  },
  {
   "cell_type": "code",
   "execution_count": null,
   "id": "dca08a9c",
   "metadata": {
    "scrolled": true
   },
   "outputs": [],
   "source": [
    "# print(df.columns)\n",
    "# print(df.isnull().sum())\n",
    "# print(df.dtypes)"
   ]
  },
  {
   "cell_type": "code",
   "execution_count": null,
   "id": "4ac98527",
   "metadata": {},
   "outputs": [],
   "source": []
  },
  {
   "cell_type": "code",
   "execution_count": null,
   "id": "eb3f3203",
   "metadata": {},
   "outputs": [],
   "source": []
  }
 ],
 "metadata": {
  "kernelspec": {
   "display_name": "Python 3 (ipykernel)",
   "language": "python",
   "name": "python3"
  },
  "language_info": {
   "codemirror_mode": {
    "name": "ipython",
    "version": 3
   },
   "file_extension": ".py",
   "mimetype": "text/x-python",
   "name": "python",
   "nbconvert_exporter": "python",
   "pygments_lexer": "ipython3",
   "version": "3.10.6"
  }
 },
 "nbformat": 4,
 "nbformat_minor": 5
}
