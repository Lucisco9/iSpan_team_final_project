{
 "cells": [
  {
   "cell_type": "code",
   "execution_count": 1,
   "id": "f57e690f",
   "metadata": {},
   "outputs": [],
   "source": [
    "import pymysql\n",
    "import pandas as pd\n",
    "import numpy as np\n",
    "from datetime import datetime"
   ]
  },
  {
   "cell_type": "markdown",
   "id": "d0b7f4d2",
   "metadata": {},
   "source": [
    "### 天氣測站清單匯入MySQL"
   ]
  },
  {
   "cell_type": "code",
   "execution_count": 3,
   "id": "2704ae07",
   "metadata": {},
   "outputs": [
    {
     "name": "stdout",
     "output_type": "stream",
     "text": [
      "Finished processing row Pandas(狀態='現存', 站號='C1X040', 站名='東原', 站種='局屬自動站', _4=232.0, 經度=120.4638, 緯度=23.2916, 城市='臺南市', 地址='東山區高原里4鄰31號後方果園', 資料起始日期='1993-03-01', 撤站日期=nan, 備註='本站於2015/6/30起進行儀器汰換，並於2015/12/31完成驗收。', 原站號=nan, 新站號=nan)\n"
     ]
    }
   ],
   "source": [
    "# 建立mysql連線\n",
    "host = 'ip address'\n",
    "user = 'your account'\n",
    "password = 'your password'\n",
    "database = 'your DB name'\n",
    "port = 3306\n",
    "\n",
    "conn = pymysql.connect(host=host, user=user, password=password, database=database, port=port)\n",
    "\n",
    "# 指定要寫入的資料庫表名稱\n",
    "table_name = 'weather_station'\n",
    "\n",
    "source_path = \"../DEVIDE/氣象測站清單20230607.csv\"\n",
    "\n",
    "df = pd.read_csv(source_path,encoding='UTF-8', header=0, index_col=False)\n",
    "\n",
    "# 一行一行寫入資料庫\n",
    "for row in df.itertuples(index=False):\n",
    "    values = ', '.join([f\"'{value}'\" if pd.notnull(value) else 'NULL' for value in row])\n",
    "    query = f\"INSERT INTO {table_name} VALUES ({values})\"\n",
    "    try:\n",
    "        with conn.cursor() as cursor:\n",
    "\n",
    "            cursor.execute(query)\n",
    "\n",
    "\n",
    "    except pymysql.MySQLError as e:\n",
    "        print(f\"row: {row}: {str(e)}\\n\")\n",
    "\n",
    "conn.commit()\n",
    "print(f\"Finished processing row {row}\")\n",
    "conn.close()"
   ]
  },
  {
   "cell_type": "markdown",
   "id": "aa14b37d",
   "metadata": {},
   "source": [
    "### 科技執法清單資料匯入MySQL"
   ]
  },
  {
   "cell_type": "code",
   "execution_count": null,
   "id": "014a8286",
   "metadata": {},
   "outputs": [],
   "source": [
    "host = 'ip address'\n",
    "user = 'your account'\n",
    "password = 'your password'\n",
    "database = 'your DB name'\n",
    "port = 3306\n",
    "\n",
    "# 建立mysql連線\n",
    "conn = pymysql.connect(host=host, user=user, password=password, database=database, port=port)\n",
    "\n",
    "# 指定要寫入的資料庫表名稱\n",
    "table_name = 'traffic_station'\n",
    "\n",
    "source_path = \"../RAW/六都科技執法清單/科技執法總清單_20230627_NP.csv\"\n",
    "\n",
    "df = pd.read_csv(source_path,encoding='UTF-8', header=0, index_col=False)\n",
    "\n",
    "# 一行一行寫入資料庫\n",
    "for row in df.itertuples(index=False):\n",
    "    values = ', '.join([f\"'{value}'\" if pd.notnull(value) else 'NULL' for value in row])\n",
    "    query = f\"INSERT INTO {table_name} VALUES ({values})\"\n",
    "    try:\n",
    "        with conn.cursor() as cursor:\n",
    "\n",
    "            cursor.execute(query)\n",
    "\n",
    "\n",
    "    except pymysql.MySQLError as e:\n",
    "        print(f\"row: {row}: {str(e)}\\n\")\n",
    "\n",
    "conn.commit()\n",
    "print(f\"Finished processing row {row}\")\n",
    "conn.close()"
   ]
  },
  {
   "cell_type": "code",
   "execution_count": null,
   "id": "631e614f",
   "metadata": {},
   "outputs": [],
   "source": []
  }
 ],
 "metadata": {
  "kernelspec": {
   "display_name": "Python 3 (ipykernel)",
   "language": "python",
   "name": "python3"
  },
  "language_info": {
   "codemirror_mode": {
    "name": "ipython",
    "version": 3
   },
   "file_extension": ".py",
   "mimetype": "text/x-python",
   "name": "python",
   "nbconvert_exporter": "python",
   "pygments_lexer": "ipython3",
   "version": "3.10.6"
  }
 },
 "nbformat": 4,
 "nbformat_minor": 5
}
