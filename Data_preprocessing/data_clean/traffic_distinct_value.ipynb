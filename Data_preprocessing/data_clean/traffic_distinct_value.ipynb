{
 "cells": [
  {
   "cell_type": "code",
   "execution_count": null,
   "id": "b7596033",
   "metadata": {},
   "outputs": [],
   "source": [
    "import pymysql\n",
    "\n",
    "host = 'ip address'\n",
    "user = 'your account'\n",
    "password = 'your password'\n",
    "database = 'your DB name'\n",
    "port = 3306\n",
    "\n",
    "conn = pymysql.connect(host=host, user=user, password=password, database=database, port=port)\n",
    "\n",
    "\n",
    "cursor = conn.cursor()\n",
    "query = \"SELECT*FROM ACCIDENT\"\n",
    "cursor.execute(query)\n",
    "\n",
    "results = cursor.fetchall()\n",
    "\n",
    "columns = [column[0] for column in cursor.description]\n",
    "\n",
    "for column in columns:\n",
    "    distinct_values = set(row[columns.index(column)] for row in results)\n",
    "    print(\"Column:\", column)\n",
    "    print(\"Distinct Values:\", distinct_values)\n",
    "    print()\n",
    "\n",
    "cursor.close()\n",
    "conn.close()"
   ]
  }
 ],
 "metadata": {
  "kernelspec": {
   "display_name": "Python 3 (ipykernel)",
   "language": "python",
   "name": "python3"
  },
  "language_info": {
   "codemirror_mode": {
    "name": "ipython",
    "version": 3
   },
   "file_extension": ".py",
   "mimetype": "text/x-python",
   "name": "python",
   "nbconvert_exporter": "python",
   "pygments_lexer": "ipython3",
   "version": "3.10.6"
  }
 },
 "nbformat": 4,
 "nbformat_minor": 5
}
